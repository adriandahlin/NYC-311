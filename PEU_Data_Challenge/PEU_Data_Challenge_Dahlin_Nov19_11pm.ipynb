{
 "cells": [
  {
   "cell_type": "code",
   "execution_count": 95,
   "metadata": {},
   "outputs": [],
   "source": [
    "import pandas as pd\n",
    "import fiona\n",
    "import seaborn\n",
    "# import geopandas as gp\n",
    "# from geopandas import GeoDataFrame\n",
    "# from shapely.geometry import Point\n",
    "import numpy as np\n",
    "import statsmodels.api as sm\n",
    "import matplotlib\n",
    "import matplotlib.pylab as pl\n",
    "from pylab import rcParams\n",
    "import matplotlib.pyplot as plt\n",
    "\n",
    "import csv\n",
    "\n",
    "from datetime import datetime\n",
    "from dateutil.parser import parse\n",
    "\n",
    "%matplotlib inline"
   ]
  },
  {
   "cell_type": "markdown",
   "metadata": {},
   "source": [
    "# 1. Importing 311 data and selecting relevant subset"
   ]
  },
  {
   "cell_type": "markdown",
   "metadata": {},
   "source": [
    "Previously filtered for complaints under Department of Health and Mental Hygiene from January 1, 2016 through December 31, 2016."
   ]
  },
  {
   "cell_type": "code",
   "execution_count": 47,
   "metadata": {},
   "outputs": [
    {
     "name": "stderr",
     "output_type": "stream",
     "text": [
      "/anaconda/lib/python3.6/site-packages/IPython/core/interactiveshell.py:2698: DtypeWarning: Columns (17) have mixed types. Specify dtype option on import or set low_memory=False.\n",
      "  interactivity=interactivity, compiler=compiler, result=result)\n"
     ]
    },
    {
     "data": {
      "text/plain": [
       "66591"
      ]
     },
     "execution_count": 47,
     "metadata": {},
     "output_type": "execute_result"
    }
   ],
   "source": [
    "data = pd.read_csv('311_Service_Requests_DOHMH_2016.csv')\n",
    "data.columns\n",
    "len(data)"
   ]
  },
  {
   "cell_type": "code",
   "execution_count": 48,
   "metadata": {},
   "outputs": [],
   "source": [
    "data.drop(['Agency','Agency Name', 'Street Name', 'Address Type',\n",
    "       'City', 'Landmark', 'Status', 'Due Date',\n",
    "       'Resolution Description', 'Resolution Action Updated Date',\n",
    "       'Community Board', 'Borough', 'X Coordinate (State Plane)',\n",
    "       'Y Coordinate (State Plane)', 'Park Facility Name', 'Park Borough',\n",
    "       'School Name', 'School Number', 'School Region', 'School Code',\n",
    "       'School Phone Number', 'School Address', 'School City', 'School State',\n",
    "       'School Zip', 'School Not Found', 'School or Citywide Complaint',\n",
    "       'Vehicle Type', 'Taxi Company Borough', 'Taxi Pick Up Location',\n",
    "       'Bridge Highway Name', 'Bridge Highway Direction', 'Road Ramp',\n",
    "       'Bridge Highway Segment', 'Garage Lot Name', 'Ferry Direction',\n",
    "       'Ferry Terminal Name', 'Intersection Street 1', 'Cross Street 1', 'Cross Street 2',\n",
    "       'Intersection Street 2', 'Facility Type', 'Location', 'Latitude', 'Longitude'], axis=1, inplace=True)"
   ]
  },
  {
   "cell_type": "code",
   "execution_count": 49,
   "metadata": {},
   "outputs": [
    {
     "data": {
      "text/plain": [
       "array(['Residential Building', 'Restaurant/Bar/Deli/Bakery', 'Vacant Lot',\n",
       "       'Other (Explain Below)', '3+ Family Apt. Building',\n",
       "       '1-2 Family Dwelling', 'Commercial Building',\n",
       "       '1-2 Family Mixed Use Building', 'Apartment', 'Vacant Building',\n",
       "       '3+ Family Apartment Building', 'Catch Basin/Sewer',\n",
       "       '3+ Family Mixed Use Building', 'Public Garden', 'Food Cart Vendor',\n",
       "       'Building (Non-Residential)', 'Pet Shop', 'Construction Site',\n",
       "       'Residence', 'Parking Lot/Garage', 'Steam Room',\n",
       "       'Single Room Occupancy (SRO)', 'Public/Unfenced Area',\n",
       "       'Cafeteria - Private', 'Senior Center', 'Pool', 'Public Stairs',\n",
       "       'Spa Pool', 'Other', 'Restaurant', '1-3 Family Dwelling', 'Groomer',\n",
       "       'Tattoo Parlor', 'School/Pre-School', 'Office Building',\n",
       "       'Government Building', 'Hospital', 'School', 'Private School',\n",
       "       'Private House', 'Day Care/Nursery', 'Cafeteria - Private School',\n",
       "       'Soup Kitchen', 'Public School', 'Nursing Home',\n",
       "       'Kennel/Animal Shelter', 'Catering Service', 'Beach',\n",
       "       'Medical Facility', 'Cafeteria - Public School',\n",
       "       'Other (explain in Complaint Details)', nan,\n",
       "       'Cafeteria - College/University', 'Store', 'Homeless Shelter',\n",
       "       \"Doctor's Office\", 'Petting Zoo/Animal Exhibit', 'Grocery Store',\n",
       "       'Sauna', 'Street Vendor', 'Correctional Facility - City',\n",
       "       'Catering Hall', 'Street Fair Vendor', 'Tanning Salon',\n",
       "       'Public Garden/Park', 'Abandoned Building', 'Summer Camp',\n",
       "       'Residential Property', 'Correctional Facility - State',\n",
       "       'Vacant Lot/Property', 'Public Park/Garden', 'Street Area',\n",
       "       'Commercial Property', 'Swamp or Pond', 'Wooded Area',\n",
       "       \"Dentist's Office\", 'School - K-12 Private',\n",
       "       'School - College/University', 'School - K-12 Public', 'Nail Salon',\n",
       "       'Sports Arena', 'Theater', 'Horse Stable',\n",
       "       'Airport or Train/Bus Station', 'Tire Shop', 'Permanent Food Stand',\n",
       "       '1-3 Family Mixed Use Building', 'Government Building - Foreign'], dtype=object)"
      ]
     },
     "execution_count": 49,
     "metadata": {},
     "output_type": "execute_result"
    }
   ],
   "source": [
    "data['Location Type'].unique()"
   ]
  },
  {
   "cell_type": "code",
   "execution_count": 50,
   "metadata": {},
   "outputs": [
    {
     "data": {
      "text/plain": [
       "35943"
      ]
     },
     "execution_count": 50,
     "metadata": {},
     "output_type": "execute_result"
    }
   ],
   "source": [
    "residential = ('Residential Building', '3+ Family Apt. Building', '1-2 Family Dwelling', \n",
    "                                     '1-2 Family Mixed Use Building', 'Apartment',  '3+ Family Apartment Building',\n",
    "                                     '3+ Family Mixed Use Building', 'Residence', 'Single Room Occupancy (SRO)',\n",
    "                                     '1-3 Family Dwelling', 'Residential Property', '1-3 Family Mixed Use Building',)\n",
    "data = data.loc[data['Location Type'].isin(residential)]\n",
    "len(data)"
   ]
  },
  {
   "cell_type": "markdown",
   "metadata": {},
   "source": [
    "After selecting for only residential buildings, the number of complaints is reduced from 66,591 to 35,943."
   ]
  },
  {
   "cell_type": "code",
   "execution_count": 51,
   "metadata": {},
   "outputs": [
    {
     "data": {
      "text/html": [
       "<div>\n",
       "<style>\n",
       "    .dataframe thead tr:only-child th {\n",
       "        text-align: right;\n",
       "    }\n",
       "\n",
       "    .dataframe thead th {\n",
       "        text-align: left;\n",
       "    }\n",
       "\n",
       "    .dataframe tbody tr th {\n",
       "        vertical-align: top;\n",
       "    }\n",
       "</style>\n",
       "<table border=\"1\" class=\"dataframe\">\n",
       "  <thead>\n",
       "    <tr style=\"text-align: right;\">\n",
       "      <th></th>\n",
       "      <th>Unique Key</th>\n",
       "      <th>Created Date</th>\n",
       "      <th>Closed Date</th>\n",
       "      <th>Complaint Type</th>\n",
       "      <th>Descriptor</th>\n",
       "      <th>Location Type</th>\n",
       "      <th>Incident Zip</th>\n",
       "      <th>Incident Address</th>\n",
       "    </tr>\n",
       "  </thead>\n",
       "  <tbody>\n",
       "    <tr>\n",
       "      <th>0</th>\n",
       "      <td>32306500</td>\n",
       "      <td>01/01/2016 12:32:21 AM</td>\n",
       "      <td>NaN</td>\n",
       "      <td>Smoking</td>\n",
       "      <td>Smoking Violation</td>\n",
       "      <td>Residential Building</td>\n",
       "      <td>10468.0</td>\n",
       "      <td>2337 GRAND CONCOURSE</td>\n",
       "    </tr>\n",
       "    <tr>\n",
       "      <th>4</th>\n",
       "      <td>32310788</td>\n",
       "      <td>01/01/2016 12:00:00 AM</td>\n",
       "      <td>11/23/2015 12:00:00 AM</td>\n",
       "      <td>Rodent</td>\n",
       "      <td>Mouse Sighting</td>\n",
       "      <td>3+ Family Apt. Building</td>\n",
       "      <td>10029.0</td>\n",
       "      <td>2172 2ND AVENUE</td>\n",
       "    </tr>\n",
       "    <tr>\n",
       "      <th>5</th>\n",
       "      <td>32310789</td>\n",
       "      <td>01/01/2016 12:00:00 AM</td>\n",
       "      <td>NaN</td>\n",
       "      <td>Rodent</td>\n",
       "      <td>Mouse Sighting</td>\n",
       "      <td>3+ Family Apt. Building</td>\n",
       "      <td>11432.0</td>\n",
       "      <td>159-44 NORMAL ROAD</td>\n",
       "    </tr>\n",
       "    <tr>\n",
       "      <th>6</th>\n",
       "      <td>32310790</td>\n",
       "      <td>01/01/2016 12:00:00 AM</td>\n",
       "      <td>01/20/2016 12:00:00 AM</td>\n",
       "      <td>Rodent</td>\n",
       "      <td>Mouse Sighting</td>\n",
       "      <td>3+ Family Apt. Building</td>\n",
       "      <td>11210.0</td>\n",
       "      <td>2300 KINGS HIGHWAY</td>\n",
       "    </tr>\n",
       "    <tr>\n",
       "      <th>7</th>\n",
       "      <td>32310791</td>\n",
       "      <td>01/01/2016 12:00:00 AM</td>\n",
       "      <td>11/23/2015 12:00:00 AM</td>\n",
       "      <td>Rodent</td>\n",
       "      <td>Mouse Sighting</td>\n",
       "      <td>3+ Family Apt. Building</td>\n",
       "      <td>10029.0</td>\n",
       "      <td>2172 2ND AVENUE</td>\n",
       "    </tr>\n",
       "  </tbody>\n",
       "</table>\n",
       "</div>"
      ],
      "text/plain": [
       "   Unique Key            Created Date             Closed Date Complaint Type  \\\n",
       "0    32306500  01/01/2016 12:32:21 AM                     NaN        Smoking   \n",
       "4    32310788  01/01/2016 12:00:00 AM  11/23/2015 12:00:00 AM         Rodent   \n",
       "5    32310789  01/01/2016 12:00:00 AM                     NaN         Rodent   \n",
       "6    32310790  01/01/2016 12:00:00 AM  01/20/2016 12:00:00 AM         Rodent   \n",
       "7    32310791  01/01/2016 12:00:00 AM  11/23/2015 12:00:00 AM         Rodent   \n",
       "\n",
       "          Descriptor            Location Type  Incident Zip  \\\n",
       "0  Smoking Violation     Residential Building       10468.0   \n",
       "4     Mouse Sighting  3+ Family Apt. Building       10029.0   \n",
       "5     Mouse Sighting  3+ Family Apt. Building       11432.0   \n",
       "6     Mouse Sighting  3+ Family Apt. Building       11210.0   \n",
       "7     Mouse Sighting  3+ Family Apt. Building       10029.0   \n",
       "\n",
       "       Incident Address  \n",
       "0  2337 GRAND CONCOURSE  \n",
       "4       2172 2ND AVENUE  \n",
       "5    159-44 NORMAL ROAD  \n",
       "6    2300 KINGS HIGHWAY  \n",
       "7       2172 2ND AVENUE  "
      ]
     },
     "execution_count": 51,
     "metadata": {},
     "output_type": "execute_result"
    }
   ],
   "source": [
    "data.head()"
   ]
  },
  {
   "cell_type": "code",
   "execution_count": 52,
   "metadata": {},
   "outputs": [
    {
     "data": {
      "text/plain": [
       "array(['Smoking Violation', 'Mouse Sighting', 'Dog', 'Rat Sighting',\n",
       "       'Signs of Rodents', 'Unlicensed Day Care',\n",
       "       'Chemical Vapors/Gases/Odors', 'Sewage Odor',\n",
       "       'Condition Attracting Rodents', 'Other', 'Cat',\n",
       "       'Other (Explain Below)', 'Ventilation', 'Pigeon Waste',\n",
       "       'Farm Animal', 'Dust from Construction',\n",
       "       'Illness Caused by Drinking Water', nan, 'Rooster', 'Sewage Leak',\n",
       "       'Other Animal', 'Dry Cleaning Vapors (PERC)', 'Tenant Refusal',\n",
       "       'Snake', 'Pigeon Odor', 'Iguana', 'Permit/License/Certificate',\n",
       "       'Bees/Wasps - Not a beekeper', 'Beekeeping - Honeybees',\n",
       "       'Container - Over 5 Gallons', 'Swimming Pool Cover',\n",
       "       'Puddle in Ground', 'Swimming Pool - Unmaintained', 'Ferret',\n",
       "       'Sewer or Drain', 'No Permit or License',\n",
       "       'Container - Under 5 Gallons', 'Puddle on Sidewalk',\n",
       "       'Puddle on Driveway', 'Bird Bath', 'Large Number of Mosquitoes',\n",
       "       'Flower Planters', 'Monkey', 'Puddle on Roof',\n",
       "       'Fountain - Over 5 Gallons', 'Basement',\n",
       "       'Turtle Under 4 inches Long', 'Cigarette Vending Machine', 'Tires',\n",
       "       'Roof Gutters', 'Fountain - Under 5 Gallons'], dtype=object)"
      ]
     },
     "execution_count": 52,
     "metadata": {},
     "output_type": "execute_result"
    }
   ],
   "source": [
    "data['Descriptor'].unique()"
   ]
  },
  {
   "cell_type": "code",
   "execution_count": 53,
   "metadata": {},
   "outputs": [
    {
     "data": {
      "text/plain": [
       "32605"
      ]
     },
     "execution_count": 53,
     "metadata": {},
     "output_type": "execute_result"
    }
   ],
   "source": [
    "landlord_issues = ('Smoking Violation', 'Mouse Sighting', 'Dog', 'Rat Sighting',\n",
    "       'Signs of Rodents',\n",
    "       'Chemical Vapors/Gases/Odors', 'Sewage Odor',\n",
    "       'Condition Attracting Rodents', 'Cat', 'Ventilation', 'Pigeon Waste',\n",
    "       'Farm Animal', 'Dust from Construction',\n",
    "       'Illness Caused by Drinking Water', 'Rooster', 'Sewage Leak',\n",
    "       'Other Animal', 'Dry Cleaning Vapors (PERC)', 'Tenant Refusal',\n",
    "       'Snake', 'Pigeon Odor', 'Iguana',\n",
    "       'Puddle in Ground', 'Ferret',\n",
    "       'Sewer or Drain',\n",
    "       'Puddle on Driveway', 'Large Number of Mosquitoes',\n",
    "       'Flower Planters', 'Monkey', 'Puddle on Roof',\n",
    "       'Basement',\n",
    "       'Turtle Under 4 inches Long', 'Tires',\n",
    "       'Roof Gutters')\n",
    "data = data.loc[data['Descriptor'].isin(landlord_issues)]\n",
    "len(data)"
   ]
  },
  {
   "cell_type": "markdown",
   "metadata": {},
   "source": [
    "After selecting for only things that endanger tenants or affect their quality of life and that landlords can control, the number of complaints is reduced from 35,943 to 32,605."
   ]
  },
  {
   "cell_type": "markdown",
   "metadata": {},
   "source": [
    "# 2. Counting the number of complaints of each type"
   ]
  },
  {
   "cell_type": "code",
   "execution_count": 84,
   "metadata": {},
   "outputs": [
    {
     "data": {
      "image/png": "[encoded data removed]",
      "text/plain": [
       "<matplotlib.figure.Figure at 0x10b4cb198>"
      ]
     },
     "metadata": {},
     "output_type": "display_data"
    }
   ],
   "source": [
    "def plot_complaints_per_type(df):\n",
    "    complaint1 = df.groupby('Descriptor')\n",
    "    complaint = pd.DataFrame(complaint1['Descriptor'].apply(np.size))\n",
    "    complaint.rename(columns = {'Descriptor':'Number_of_Calls'}, inplace = True)\n",
    "    # next line eliminates complaint types with very few complaints\n",
    "    complaint = complaint[complaint['Number_of_Calls'] > (np.max(complaint['Number_of_Calls'])/100)]\n",
    "    complaint['Complaint_Type'] = complaint.index\n",
    "    \n",
    "    objects = complaint['Complaint_Type']\n",
    "    y_pos = np.arange(len(objects))\n",
    "    number = complaint['Number_of_Calls']\n",
    "\n",
    "    plt.figure(figsize=(14,6))\n",
    "    plt.bar(y_pos, number, align='center', alpha=0.5)\n",
    "    plt.xticks(y_pos, objects, rotation='vertical')\n",
    "    plt.ylabel('Number of Complaints in 2016', fontsize=13)\n",
    "    plt.title('Complaints Per Type', fontsize=18)\n",
    "    \n",
    "plot_complaints_per_type(data)"
   ]
  },
  {
   "cell_type": "markdown",
   "metadata": {},
   "source": [
    "# 3. Counting total complaints per zip code"
   ]
  },
  {
   "cell_type": "code",
   "execution_count": 146,
   "metadata": {},
   "outputs": [
    {
     "name": "stdout",
     "output_type": "stream",
     "text": [
      "There are 185 zip codes in the data.\n",
      "------------------------------\n",
      "These zip codes have only one call:          Number_of_Calls      zip\n",
      "10129.0                1  10129.0\n",
      "11430.0                1  11430.0\n",
      "10162.0                1  10162.0\n",
      "11005.0                1  11005.0\n",
      "11109.0                1  11109.0\n",
      "11202.0                1  11202.0\n",
      "11697.0                1  11697.0\n",
      "------------------------------\n",
      "         Number_of_Calls      zip\n",
      "11221.0              776  11221.0\n",
      "10467.0              620  10467.0\n",
      "11216.0              619  11216.0\n",
      "10025.0              545  10025.0\n",
      "11226.0              526  11226.0\n",
      "------------------------------\n"
     ]
    },
    {
     "data": {
      "text/html": [
       "<div>\n",
       "<style>\n",
       "    .dataframe thead tr:only-child th {\n",
       "        text-align: right;\n",
       "    }\n",
       "\n",
       "    .dataframe thead th {\n",
       "        text-align: left;\n",
       "    }\n",
       "\n",
       "    .dataframe tbody tr th {\n",
       "        vertical-align: top;\n",
       "    }\n",
       "</style>\n",
       "<table border=\"1\" class=\"dataframe\">\n",
       "  <thead>\n",
       "    <tr style=\"text-align: right;\">\n",
       "      <th></th>\n",
       "      <th>Number_of_Calls</th>\n",
       "      <th>zip</th>\n",
       "    </tr>\n",
       "  </thead>\n",
       "  <tbody>\n",
       "    <tr>\n",
       "      <th>count</th>\n",
       "      <td>185.000000</td>\n",
       "      <td>185.000000</td>\n",
       "    </tr>\n",
       "    <tr>\n",
       "      <th>mean</th>\n",
       "      <td>176.108108</td>\n",
       "      <td>10814.351351</td>\n",
       "    </tr>\n",
       "    <tr>\n",
       "      <th>std</th>\n",
       "      <td>146.524739</td>\n",
       "      <td>573.757780</td>\n",
       "    </tr>\n",
       "    <tr>\n",
       "      <th>min</th>\n",
       "      <td>1.000000</td>\n",
       "      <td>10001.000000</td>\n",
       "    </tr>\n",
       "    <tr>\n",
       "      <th>25%</th>\n",
       "      <td>71.000000</td>\n",
       "      <td>10301.000000</td>\n",
       "    </tr>\n",
       "    <tr>\n",
       "      <th>50%</th>\n",
       "      <td>138.000000</td>\n",
       "      <td>11106.000000</td>\n",
       "    </tr>\n",
       "    <tr>\n",
       "      <th>75%</th>\n",
       "      <td>258.000000</td>\n",
       "      <td>11360.000000</td>\n",
       "    </tr>\n",
       "    <tr>\n",
       "      <th>max</th>\n",
       "      <td>776.000000</td>\n",
       "      <td>11697.000000</td>\n",
       "    </tr>\n",
       "  </tbody>\n",
       "</table>\n",
       "</div>"
      ],
      "text/plain": [
       "       Number_of_Calls           zip\n",
       "count       185.000000    185.000000\n",
       "mean        176.108108  10814.351351\n",
       "std         146.524739    573.757780\n",
       "min           1.000000  10001.000000\n",
       "25%          71.000000  10301.000000\n",
       "50%         138.000000  11106.000000\n",
       "75%         258.000000  11360.000000\n",
       "max         776.000000  11697.000000"
      ]
     },
     "execution_count": 146,
     "metadata": {},
     "output_type": "execute_result"
    }
   ],
   "source": [
    "zips1 = data.groupby('Incident Zip')\n",
    "zips = pd.DataFrame(zips1['Incident Zip'].apply(np.size))\n",
    "zips.rename(columns = {'Incident Zip':'Number_of_Calls'}, inplace = True)\n",
    "zips.sort_values(by='Number_of_Calls', axis=0, ascending=False, inplace=True)\n",
    "zips.index.name = None\n",
    "zips['zip'] = zips.index\n",
    "print('There are', len(zips), 'zip codes in the data.')\n",
    "print('------------------------------')\n",
    "print('These zip codes have only one call:', zips[zips['Number_of_Calls'] == 1.0])\n",
    "print('------------------------------')\n",
    "print(zips.head())\n",
    "print('------------------------------')\n",
    "zips.describe()"
   ]
  },
  {
   "cell_type": "markdown",
   "metadata": {},
   "source": [
    "## RECOMMENDATION: The Tenant Support Unit should start with zip code 11221"
   ]
  },
  {
   "cell_type": "code",
   "execution_count": 119,
   "metadata": {},
   "outputs": [
    {
     "data": {
      "text/plain": [
       "Text(0,0.5,'Number of Zip Codes')"
      ]
     },
     "execution_count": 119,
     "metadata": {},
     "output_type": "execute_result"
    },
    {
     "data": {
      "image/png": "[encoded data removed]",
      "text/plain": [
       "<matplotlib.figure.Figure at 0x1264e1668>"
      ]
     },
     "metadata": {},
     "output_type": "display_data"
    }
   ],
   "source": [
    "# labels = ['label1', 'label2', 'label3']\n",
    "pl.figure(figsize=(12, 6))\n",
    "pl.hist(zips, bins=30, edgecolor='black', linewidth=1)\n",
    "labels = \n",
    "pl.xticks(zips['Number_of_Calls'], labels, rotation = 'vertical')\n",
    "pl.title('Distribution of Zip Codes by Number of Complaints', fontsize = 18)\n",
    "pl.xlabel('Complaints per Zip Code', fontsize = 14)\n",
    "pl.ylabel('Number of Zip Codes', fontsize = 14)"
   ]
  },
  {
   "cell_type": "code",
   "execution_count": null,
   "metadata": {},
   "outputs": [],
   "source": [
    "# bins = np.arange(10, 99, 5)\n",
    "# ax = zips.groupby(pd.cut(zips['Number_of_Calls'], bins)).plot(kind='bar', legend=False)\n",
    "# ax.set_title(\"Citi Bike Rider Age\")"
   ]
  },
  {
   "cell_type": "code",
   "execution_count": 120,
   "metadata": {},
   "outputs": [
    {
     "data": {
      "image/png": "[encoded data removed]",
      "text/plain": [
       "<matplotlib.figure.Figure at 0x1260744e0>"
      ]
     },
     "metadata": {},
     "output_type": "display_data"
    }
   ],
   "source": [
    "x = [0,1,2]\n",
    "y = [90,40,65]\n",
    "labels = ['high', 'low', 37337]\n",
    "plt.plot(x,y, 'r')\n",
    "plt.xticks(x, labels, rotation='vertical')\n",
    "plt.show()"
   ]
  },
  {
   "cell_type": "markdown",
   "metadata": {},
   "source": [
    "# 4. More detail on zip code 11221"
   ]
  },
  {
   "cell_type": "code",
   "execution_count": 150,
   "metadata": {},
   "outputs": [
    {
     "data": {
      "image/png": "[encoded data removed]",
      "text/plain": [
       "<matplotlib.figure.Figure at 0x125860dd8>"
      ]
     },
     "metadata": {},
     "output_type": "display_data"
    }
   ],
   "source": [
    "target = data[data['Incident Zip'] == 11221.0]\n",
    "plot_complaints_per_type(target)"
   ]
  },
  {
   "cell_type": "code",
   "execution_count": 162,
   "metadata": {},
   "outputs": [
    {
     "data": {
      "text/html": [
       "<div>\n",
       "<style>\n",
       "    .dataframe thead tr:only-child th {\n",
       "        text-align: right;\n",
       "    }\n",
       "\n",
       "    .dataframe thead th {\n",
       "        text-align: left;\n",
       "    }\n",
       "\n",
       "    .dataframe tbody tr th {\n",
       "        vertical-align: top;\n",
       "    }\n",
       "</style>\n",
       "<table border=\"1\" class=\"dataframe\">\n",
       "  <thead>\n",
       "    <tr style=\"text-align: right;\">\n",
       "      <th></th>\n",
       "      <th>Number_of_Calls</th>\n",
       "      <th>Complaint_Type</th>\n",
       "    </tr>\n",
       "    <tr>\n",
       "      <th>Rank</th>\n",
       "      <th></th>\n",
       "      <th></th>\n",
       "    </tr>\n",
       "  </thead>\n",
       "  <tbody>\n",
       "    <tr>\n",
       "      <th>1</th>\n",
       "      <td>406</td>\n",
       "      <td>Rat Sighting</td>\n",
       "    </tr>\n",
       "    <tr>\n",
       "      <th>2</th>\n",
       "      <td>157</td>\n",
       "      <td>Condition Attracting Rodents</td>\n",
       "    </tr>\n",
       "    <tr>\n",
       "      <th>3</th>\n",
       "      <td>64</td>\n",
       "      <td>Mouse Sighting</td>\n",
       "    </tr>\n",
       "    <tr>\n",
       "      <th>4</th>\n",
       "      <td>41</td>\n",
       "      <td>Signs of Rodents</td>\n",
       "    </tr>\n",
       "    <tr>\n",
       "      <th>5</th>\n",
       "      <td>21</td>\n",
       "      <td>Sewage Odor</td>\n",
       "    </tr>\n",
       "    <tr>\n",
       "      <th>6</th>\n",
       "      <td>20</td>\n",
       "      <td>Chemical Vapors/Gases/Odors</td>\n",
       "    </tr>\n",
       "    <tr>\n",
       "      <th>7</th>\n",
       "      <td>11</td>\n",
       "      <td>Dog</td>\n",
       "    </tr>\n",
       "    <tr>\n",
       "      <th>8</th>\n",
       "      <td>11</td>\n",
       "      <td>Cat</td>\n",
       "    </tr>\n",
       "    <tr>\n",
       "      <th>9</th>\n",
       "      <td>7</td>\n",
       "      <td>Smoking Violation</td>\n",
       "    </tr>\n",
       "    <tr>\n",
       "      <th>10</th>\n",
       "      <td>6</td>\n",
       "      <td>Dust from Construction</td>\n",
       "    </tr>\n",
       "  </tbody>\n",
       "</table>\n",
       "</div>"
      ],
      "text/plain": [
       "      Number_of_Calls                Complaint_Type\n",
       "Rank                                               \n",
       "1                 406                  Rat Sighting\n",
       "2                 157  Condition Attracting Rodents\n",
       "3                  64                Mouse Sighting\n",
       "4                  41              Signs of Rodents\n",
       "5                  21                   Sewage Odor\n",
       "6                  20   Chemical Vapors/Gases/Odors\n",
       "7                  11                           Dog\n",
       "8                  11                           Cat\n",
       "9                   7             Smoking Violation\n",
       "10                  6        Dust from Construction"
      ]
     },
     "execution_count": 162,
     "metadata": {},
     "output_type": "execute_result"
    }
   ],
   "source": [
    "type1 = target.groupby('Descriptor')\n",
    "Type = pd.DataFrame(type1['Descriptor'].apply(np.size))\n",
    "Type.rename(columns = {'Descriptor':'Number_of_Calls'}, inplace = True)\n",
    "Type['Complaint_Type'] = Type.index\n",
    "Type.sort_values(by='Number_of_Calls', axis=0, ascending=False, inplace=True)\n",
    "Type.index = np.arange(1, len(Type)+1)\n",
    "Type.index.name = 'Rank'\n",
    "Type.head(10)"
   ]
  },
  {
   "cell_type": "markdown",
   "metadata": {},
   "source": [
    "## CITY COUNCILOR: these are the top ten tenant-related complaints in the most complained-about zip code in your district"
   ]
  },
  {
   "cell_type": "markdown",
   "metadata": {},
   "source": [
    "# 5. Counting which properties have the most complaints."
   ]
  },
  {
   "cell_type": "markdown",
   "metadata": {},
   "source": [
    "# 6. Bringing in other 311 complaints (esp heat and mold related)"
   ]
  },
  {
   "cell_type": "code",
   "execution_count": null,
   "metadata": {
    "collapsed": true
   },
   "outputs": [],
   "source": []
  }
 ],
 "metadata": {
  "kernelspec": {
   "display_name": "Python 3",
   "language": "python",
   "name": "python3"
  },
  "language_info": {
   "codemirror_mode": {
    "name": "ipython",
    "version": 3
   },
   "file_extension": ".py",
   "mimetype": "text/x-python",
   "name": "python",
   "nbconvert_exporter": "python",
   "pygments_lexer": "ipython3",
   "version": "3.6.2"
  }
 },
 "nbformat": 4,
 "nbformat_minor": 2
}

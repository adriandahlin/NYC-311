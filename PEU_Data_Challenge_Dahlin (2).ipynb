{
 "cells": [
  {
   "cell_type": "code",
   "execution_count": 140,
   "metadata": {
    "scrolled": true
   },
   "outputs": [],
   "source": [
    "import pandas as pd\n",
    "import fiona\n",
    "import seaborn\n",
    "# import geopandas as gp\n",
    "# from geopandas import GeoDataFrame\n",
    "# from shapely.geometry import Point\n",
    "import numpy as np\n",
    "import statsmodels.api as sm\n",
    "import matplotlib\n",
    "import matplotlib.pylab as pl\n",
    "from pylab import rcParams\n",
    "import matplotlib.pyplot as plt\n",
    "\n",
    "import csv\n",
    "\n",
    "from datetime import datetime\n",
    "from dateutil.parser import parse\n",
    "\n",
    "%matplotlib inline"
   ]
  },
  {
   "cell_type": "markdown",
   "metadata": {},
   "source": [
    "# 1. Importing 311 data and selecting relevant subset"
   ]
  },
  {
   "cell_type": "markdown",
   "metadata": {},
   "source": [
    "## Importing separate CSVs for DOHMH and HPD data."
   ]
  },
  {
   "cell_type": "markdown",
   "metadata": {},
   "source": [
    "This set filtered for complaints under Department of Health and Mental Hygiene from January 1, 2016 through December 31, 2016."
   ]
  },
  {
   "cell_type": "code",
   "execution_count": 2,
   "metadata": {
    "scrolled": true
   },
   "outputs": [
    {
     "name": "stderr",
     "output_type": "stream",
     "text": [
      "/anaconda/lib/python3.6/site-packages/IPython/core/interactiveshell.py:2698: DtypeWarning: Columns (17) have mixed types. Specify dtype option on import or set low_memory=False.\n",
      "  interactivity=interactivity, compiler=compiler, result=result)\n"
     ]
    },
    {
     "data": {
      "text/plain": [
       "66591"
      ]
     },
     "execution_count": 2,
     "metadata": {},
     "output_type": "execute_result"
    }
   ],
   "source": [
    "health = pd.read_csv('Data/311_Service_Requests_DOHMH_2016.csv')\n",
    "len(health)"
   ]
  },
  {
   "cell_type": "markdown",
   "metadata": {},
   "source": [
    "This set filtered for complaints under Department of Housing Preservation and Development from January 1, 2016 through December 31, 2016."
   ]
  },
  {
   "cell_type": "code",
   "execution_count": 3,
   "metadata": {
    "scrolled": true
   },
   "outputs": [
    {
     "name": "stderr",
     "output_type": "stream",
     "text": [
      "/anaconda/lib/python3.6/site-packages/IPython/core/interactiveshell.py:2698: DtypeWarning: Columns (20,38) have mixed types. Specify dtype option on import or set low_memory=False.\n",
      "  interactivity=interactivity, compiler=compiler, result=result)\n"
     ]
    },
    {
     "data": {
      "text/plain": [
       "596190"
      ]
     },
     "execution_count": 3,
     "metadata": {},
     "output_type": "execute_result"
    }
   ],
   "source": [
    "housing = pd.read_csv('Data/311_Service_Requests_HPD_2016.csv')\n",
    "len(housing)"
   ]
  },
  {
   "cell_type": "code",
   "execution_count": 4,
   "metadata": {
    "scrolled": true
   },
   "outputs": [
    {
     "data": {
      "text/plain": [
       "array(['RESIDENTIAL BUILDING', nan], dtype=object)"
      ]
     },
     "execution_count": 4,
     "metadata": {},
     "output_type": "execute_result"
    }
   ],
   "source": [
    "housing['Location Type'].unique()"
   ]
  },
  {
   "cell_type": "code",
   "execution_count": 5,
   "metadata": {
    "scrolled": true
   },
   "outputs": [
    {
     "data": {
      "text/plain": [
       "592652"
      ]
     },
     "execution_count": 5,
     "metadata": {},
     "output_type": "execute_result"
    }
   ],
   "source": [
    "housing = housing[housing['Location Type'] == 'RESIDENTIAL BUILDING']\n",
    "len(housing)"
   ]
  },
  {
   "cell_type": "markdown",
   "metadata": {},
   "source": [
    "After removing NaN values in the Location Type field, the number of HPD complaints is reduced from 596,190 to 592,652."
   ]
  },
  {
   "cell_type": "markdown",
   "metadata": {},
   "source": [
    "## Selecting only DOHMH complaints about landlord issues in residential buildings"
   ]
  },
  {
   "cell_type": "code",
   "execution_count": 6,
   "metadata": {
    "scrolled": true
   },
   "outputs": [
    {
     "data": {
      "text/plain": [
       "array(['Residential Building', 'Restaurant/Bar/Deli/Bakery', 'Vacant Lot',\n",
       "       'Other (Explain Below)', '3+ Family Apt. Building',\n",
       "       '1-2 Family Dwelling', 'Commercial Building',\n",
       "       '1-2 Family Mixed Use Building', 'Apartment', 'Vacant Building',\n",
       "       '3+ Family Apartment Building', 'Catch Basin/Sewer',\n",
       "       '3+ Family Mixed Use Building', 'Public Garden', 'Food Cart Vendor',\n",
       "       'Building (Non-Residential)', 'Pet Shop', 'Construction Site',\n",
       "       'Residence', 'Parking Lot/Garage', 'Steam Room',\n",
       "       'Single Room Occupancy (SRO)', 'Public/Unfenced Area',\n",
       "       'Cafeteria - Private', 'Senior Center', 'Pool', 'Public Stairs',\n",
       "       'Spa Pool', 'Other', 'Restaurant', '1-3 Family Dwelling', 'Groomer',\n",
       "       'Tattoo Parlor', 'School/Pre-School', 'Office Building',\n",
       "       'Government Building', 'Hospital', 'School', 'Private School',\n",
       "       'Private House', 'Day Care/Nursery', 'Cafeteria - Private School',\n",
       "       'Soup Kitchen', 'Public School', 'Nursing Home',\n",
       "       'Kennel/Animal Shelter', 'Catering Service', 'Beach',\n",
       "       'Medical Facility', 'Cafeteria - Public School',\n",
       "       'Other (explain in Complaint Details)', nan,\n",
       "       'Cafeteria - College/University', 'Store', 'Homeless Shelter',\n",
       "       \"Doctor's Office\", 'Petting Zoo/Animal Exhibit', 'Grocery Store',\n",
       "       'Sauna', 'Street Vendor', 'Correctional Facility - City',\n",
       "       'Catering Hall', 'Street Fair Vendor', 'Tanning Salon',\n",
       "       'Public Garden/Park', 'Abandoned Building', 'Summer Camp',\n",
       "       'Residential Property', 'Correctional Facility - State',\n",
       "       'Vacant Lot/Property', 'Public Park/Garden', 'Street Area',\n",
       "       'Commercial Property', 'Swamp or Pond', 'Wooded Area',\n",
       "       \"Dentist's Office\", 'School - K-12 Private',\n",
       "       'School - College/University', 'School - K-12 Public', 'Nail Salon',\n",
       "       'Sports Arena', 'Theater', 'Horse Stable',\n",
       "       'Airport or Train/Bus Station', 'Tire Shop', 'Permanent Food Stand',\n",
       "       '1-3 Family Mixed Use Building', 'Government Building - Foreign'], dtype=object)"
      ]
     },
     "execution_count": 6,
     "metadata": {},
     "output_type": "execute_result"
    }
   ],
   "source": [
    "health['Location Type'].unique()"
   ]
  },
  {
   "cell_type": "code",
   "execution_count": 7,
   "metadata": {
    "scrolled": true
   },
   "outputs": [
    {
     "data": {
      "text/plain": [
       "35943"
      ]
     },
     "execution_count": 7,
     "metadata": {},
     "output_type": "execute_result"
    }
   ],
   "source": [
    "residential = ('Residential Building', '3+ Family Apt. Building', '1-2 Family Dwelling', \n",
    "                                     '1-2 Family Mixed Use Building', 'Apartment',  '3+ Family Apartment Building',\n",
    "                                     '3+ Family Mixed Use Building', 'Residence', 'Single Room Occupancy (SRO)',\n",
    "                                     '1-3 Family Dwelling', 'Residential Property', '1-3 Family Mixed Use Building')\n",
    "health = health.loc[health['Location Type'].isin(residential)]\n",
    "len(health)"
   ]
  },
  {
   "cell_type": "markdown",
   "metadata": {},
   "source": [
    "After selecting for only residential buildings, the number of DOHMH complaints is reduced from 66,591 to 35,943."
   ]
  },
  {
   "cell_type": "code",
   "execution_count": 8,
   "metadata": {},
   "outputs": [
    {
     "data": {
      "text/plain": [
       "array(['Smoking', 'Rodent', 'Unsanitary Animal Pvt Property', 'Day Care',\n",
       "       'Indoor Air Quality', 'Indoor Sewage',\n",
       "       'Unsanitary Pigeon Condition', 'Illegal Animal Kept as Pet',\n",
       "       'Drinking Water', 'Asbestos', 'Window Guard', 'Illegal Animal Sold',\n",
       "       'Food Establishment', 'Harboring Bees/Wasps', 'Poison Ivy',\n",
       "       'Standing Water', 'Asbestos/Garbage Nuisance', 'Mosquitoes', 'LEAD',\n",
       "       'Trapping Pigeon'], dtype=object)"
      ]
     },
     "execution_count": 8,
     "metadata": {},
     "output_type": "execute_result"
    }
   ],
   "source": [
    "health['Complaint Type'].unique()"
   ]
  },
  {
   "cell_type": "code",
   "execution_count": 9,
   "metadata": {},
   "outputs": [
    {
     "data": {
      "text/plain": [
       "34856"
      ]
     },
     "execution_count": 9,
     "metadata": {},
     "output_type": "execute_result"
    }
   ],
   "source": [
    "landlord_issues10 = ('Smoking', 'Rodent',\n",
    "       'Indoor Air Quality', 'Indoor Sewage',\n",
    "       'Unsanitary Pigeon Condition',\n",
    "       'Drinking Water', 'Window Guard',\n",
    "       'Standing Water', 'Mosquitoes')\n",
    "health = health.loc[health['Complaint Type'].isin(landlord_issues10)]\n",
    "len(health)"
   ]
  },
  {
   "cell_type": "markdown",
   "metadata": {},
   "source": [
    "After selecting for only things that endanger tenants or affect their quality of life and that landlords can control, the number of DOHMH complaints is reduced from 35,943 to 32,356."
   ]
  },
  {
   "cell_type": "markdown",
   "metadata": {},
   "source": [
    "## Combining health and housing data sets."
   ]
  },
  {
   "cell_type": "code",
   "execution_count": 110,
   "metadata": {
    "scrolled": true
   },
   "outputs": [
    {
     "name": "stdout",
     "output_type": "stream",
     "text": [
      "627508\n"
     ]
    },
    {
     "data": {
      "text/plain": [
       "Index(['Unique Key', 'Created Date', 'Closed Date', 'Agency', 'Agency Name',\n",
       "       'Complaint Type', 'Descriptor', 'Location Type', 'Incident Zip',\n",
       "       'Incident Address', 'Street Name', 'Cross Street 1', 'Cross Street 2',\n",
       "       'Intersection Street 1', 'Intersection Street 2', 'Address Type',\n",
       "       'City', 'Landmark', 'Facility Type', 'Status', 'Due Date',\n",
       "       'Resolution Description', 'Resolution Action Updated Date',\n",
       "       'Community Board', 'Borough', 'X Coordinate (State Plane)',\n",
       "       'Y Coordinate (State Plane)', 'Park Facility Name', 'Park Borough',\n",
       "       'School Name', 'School Number', 'School Region', 'School Code',\n",
       "       'School Phone Number', 'School Address', 'School City', 'School State',\n",
       "       'School Zip', 'School Not Found', 'School or Citywide Complaint',\n",
       "       'Vehicle Type', 'Taxi Company Borough', 'Taxi Pick Up Location',\n",
       "       'Bridge Highway Name', 'Bridge Highway Direction', 'Road Ramp',\n",
       "       'Bridge Highway Segment', 'Garage Lot Name', 'Ferry Direction',\n",
       "       'Ferry Terminal Name', 'Latitude', 'Longitude', 'Location'],\n",
       "      dtype='object')"
      ]
     },
     "execution_count": 110,
     "metadata": {},
     "output_type": "execute_result"
    }
   ],
   "source": [
    "frames = [health, housing]\n",
    "data = pd.concat(frames)\n",
    "print(len(data))\n",
    "data.columns"
   ]
  },
  {
   "cell_type": "code",
   "execution_count": 111,
   "metadata": {
    "collapsed": true,
    "scrolled": true
   },
   "outputs": [],
   "source": [
    "data.drop(['Agency Name', 'Street Name', 'Address Type',\n",
    "       'City', 'Landmark', 'Status', 'Due Date',\n",
    "       'Resolution Description', 'Resolution Action Updated Date',\n",
    "       'Community Board', 'Borough', 'X Coordinate (State Plane)',\n",
    "       'Y Coordinate (State Plane)', 'Park Facility Name', 'Park Borough',\n",
    "       'School Name', 'School Number', 'School Region', 'School Code',\n",
    "       'School Phone Number', 'School Address', 'School City', 'School State',\n",
    "       'School Zip', 'School Not Found', 'School or Citywide Complaint',\n",
    "       'Vehicle Type', 'Taxi Company Borough', 'Taxi Pick Up Location',\n",
    "       'Bridge Highway Name', 'Bridge Highway Direction', 'Road Ramp',\n",
    "       'Bridge Highway Segment', 'Garage Lot Name', 'Ferry Direction',\n",
    "       'Ferry Terminal Name', 'Intersection Street 1', 'Cross Street 1', 'Cross Street 2',\n",
    "       'Intersection Street 2', 'Facility Type', 'Location', 'Latitude', 'Longitude'], axis=1, inplace=True)"
   ]
  },
  {
   "cell_type": "code",
   "execution_count": 112,
   "metadata": {},
   "outputs": [
    {
     "data": {
      "text/plain": [
       "array(['Smoking', 'Rodent', 'Unsanitary Animal Pvt Property',\n",
       "       'Indoor Air Quality', 'Indoor Sewage',\n",
       "       'Unsanitary Pigeon Condition', 'Drinking Water', 'Window Guard',\n",
       "       'Standing Water', 'Mosquitoes', 'UNSANITARY CONDITION',\n",
       "       'DOOR/WINDOW', 'ELECTRIC', 'HEAT/HOT WATER', 'APPLIANCE', 'GENERAL',\n",
       "       'PLUMBING', 'SAFETY', 'WATER LEAK', 'FLOORING/STAIRS',\n",
       "       'OUTSIDE BUILDING', 'PAINT/PLASTER', 'ELEVATOR', 'AGENCY',\n",
       "       'VACANT APARTMENT'], dtype=object)"
      ]
     },
     "execution_count": 112,
     "metadata": {},
     "output_type": "execute_result"
    }
   ],
   "source": [
    "data['Complaint Type'].unique()"
   ]
  },
  {
   "cell_type": "code",
   "execution_count": 113,
   "metadata": {},
   "outputs": [
    {
     "data": {
      "text/plain": [
       "625367"
      ]
     },
     "execution_count": 113,
     "metadata": {},
     "output_type": "execute_result"
    }
   ],
   "source": [
    "landlord_issues3 = ('Smoking', 'Rodent',\n",
    "       'Indoor Air Quality', 'Indoor Sewage',\n",
    "       'Unsanitary Pigeon Condition',\n",
    "       'Drinking Water', 'Window Guard',\n",
    "       'Standing Water', 'Mosquitoes', 'UNSANITARY CONDITION',\n",
    "       'DOOR/WINDOW', 'ELECTRIC', 'HEAT/HOT WATER', 'APPLIANCE', 'GENERAL',\n",
    "       'PLUMBING', 'SAFETY', 'WATER LEAK', 'FLOORING/STAIRS',\n",
    "       'OUTSIDE BUILDING', 'PAINT/PLASTER', 'ELEVATOR')\n",
    "data = data.loc[data['Complaint Type'].isin(landlord_issues3)]\n",
    "len(data)"
   ]
  },
  {
   "cell_type": "markdown",
   "metadata": {},
   "source": [
    "# 2. Counting the number of complaints of each type or descriptor"
   ]
  },
  {
   "cell_type": "markdown",
   "metadata": {},
   "source": [
    "## Combining similar complaints"
   ]
  },
  {
   "cell_type": "markdown",
   "metadata": {},
   "source": [
    "This creates a single field to include both Complaint Type and Descriptor. This will then be altered to put similar complaints into single categories."
   ]
  },
  {
   "cell_type": "code",
   "execution_count": 114,
   "metadata": {
    "scrolled": true
   },
   "outputs": [
    {
     "data": {
      "text/html": [
       "<div>\n",
       "<style>\n",
       "    .dataframe thead tr:only-child th {\n",
       "        text-align: right;\n",
       "    }\n",
       "\n",
       "    .dataframe thead th {\n",
       "        text-align: left;\n",
       "    }\n",
       "\n",
       "    .dataframe tbody tr th {\n",
       "        vertical-align: top;\n",
       "    }\n",
       "</style>\n",
       "<table border=\"1\" class=\"dataframe\">\n",
       "  <thead>\n",
       "    <tr style=\"text-align: right;\">\n",
       "      <th></th>\n",
       "      <th>Unique Key</th>\n",
       "      <th>Created Date</th>\n",
       "      <th>Closed Date</th>\n",
       "      <th>Agency</th>\n",
       "      <th>Complaint Type</th>\n",
       "      <th>Descriptor</th>\n",
       "      <th>Location Type</th>\n",
       "      <th>Incident Zip</th>\n",
       "      <th>Incident Address</th>\n",
       "      <th>New_Description</th>\n",
       "    </tr>\n",
       "  </thead>\n",
       "  <tbody>\n",
       "    <tr>\n",
       "      <th>0</th>\n",
       "      <td>32306500</td>\n",
       "      <td>01/01/2016 12:32:21 AM</td>\n",
       "      <td>NaN</td>\n",
       "      <td>DOHMH</td>\n",
       "      <td>Smoking</td>\n",
       "      <td>Smoking Violation</td>\n",
       "      <td>Residential Building</td>\n",
       "      <td>10468.0</td>\n",
       "      <td>2337 GRAND CONCOURSE</td>\n",
       "      <td>Smoking – Smoking Violation</td>\n",
       "    </tr>\n",
       "    <tr>\n",
       "      <th>4</th>\n",
       "      <td>32310788</td>\n",
       "      <td>01/01/2016 12:00:00 AM</td>\n",
       "      <td>11/23/2015 12:00:00 AM</td>\n",
       "      <td>DOHMH</td>\n",
       "      <td>Rodent</td>\n",
       "      <td>Mouse Sighting</td>\n",
       "      <td>3+ Family Apt. Building</td>\n",
       "      <td>10029.0</td>\n",
       "      <td>2172 2ND AVENUE</td>\n",
       "      <td>Rodent – Mouse Sighting</td>\n",
       "    </tr>\n",
       "    <tr>\n",
       "      <th>5</th>\n",
       "      <td>32310789</td>\n",
       "      <td>01/01/2016 12:00:00 AM</td>\n",
       "      <td>NaN</td>\n",
       "      <td>DOHMH</td>\n",
       "      <td>Rodent</td>\n",
       "      <td>Mouse Sighting</td>\n",
       "      <td>3+ Family Apt. Building</td>\n",
       "      <td>11432.0</td>\n",
       "      <td>159-44 NORMAL ROAD</td>\n",
       "      <td>Rodent – Mouse Sighting</td>\n",
       "    </tr>\n",
       "    <tr>\n",
       "      <th>6</th>\n",
       "      <td>32310790</td>\n",
       "      <td>01/01/2016 12:00:00 AM</td>\n",
       "      <td>01/20/2016 12:00:00 AM</td>\n",
       "      <td>DOHMH</td>\n",
       "      <td>Rodent</td>\n",
       "      <td>Mouse Sighting</td>\n",
       "      <td>3+ Family Apt. Building</td>\n",
       "      <td>11210.0</td>\n",
       "      <td>2300 KINGS HIGHWAY</td>\n",
       "      <td>Rodent – Mouse Sighting</td>\n",
       "    </tr>\n",
       "    <tr>\n",
       "      <th>7</th>\n",
       "      <td>32310791</td>\n",
       "      <td>01/01/2016 12:00:00 AM</td>\n",
       "      <td>11/23/2015 12:00:00 AM</td>\n",
       "      <td>DOHMH</td>\n",
       "      <td>Rodent</td>\n",
       "      <td>Mouse Sighting</td>\n",
       "      <td>3+ Family Apt. Building</td>\n",
       "      <td>10029.0</td>\n",
       "      <td>2172 2ND AVENUE</td>\n",
       "      <td>Rodent – Mouse Sighting</td>\n",
       "    </tr>\n",
       "  </tbody>\n",
       "</table>\n",
       "</div>"
      ],
      "text/plain": [
       "   Unique Key            Created Date             Closed Date Agency  \\\n",
       "0    32306500  01/01/2016 12:32:21 AM                     NaN  DOHMH   \n",
       "4    32310788  01/01/2016 12:00:00 AM  11/23/2015 12:00:00 AM  DOHMH   \n",
       "5    32310789  01/01/2016 12:00:00 AM                     NaN  DOHMH   \n",
       "6    32310790  01/01/2016 12:00:00 AM  01/20/2016 12:00:00 AM  DOHMH   \n",
       "7    32310791  01/01/2016 12:00:00 AM  11/23/2015 12:00:00 AM  DOHMH   \n",
       "\n",
       "  Complaint Type         Descriptor            Location Type  Incident Zip  \\\n",
       "0        Smoking  Smoking Violation     Residential Building       10468.0   \n",
       "4         Rodent     Mouse Sighting  3+ Family Apt. Building       10029.0   \n",
       "5         Rodent     Mouse Sighting  3+ Family Apt. Building       11432.0   \n",
       "6         Rodent     Mouse Sighting  3+ Family Apt. Building       11210.0   \n",
       "7         Rodent     Mouse Sighting  3+ Family Apt. Building       10029.0   \n",
       "\n",
       "       Incident Address              New_Description  \n",
       "0  2337 GRAND CONCOURSE  Smoking – Smoking Violation  \n",
       "4       2172 2ND AVENUE      Rodent – Mouse Sighting  \n",
       "5    159-44 NORMAL ROAD      Rodent – Mouse Sighting  \n",
       "6    2300 KINGS HIGHWAY      Rodent – Mouse Sighting  \n",
       "7       2172 2ND AVENUE      Rodent – Mouse Sighting  "
      ]
     },
     "execution_count": 114,
     "metadata": {},
     "output_type": "execute_result"
    }
   ],
   "source": [
    "data['New_Description'] = data['Complaint Type'] + \" – \" + data['Descriptor']\n",
    "data.head()"
   ]
  },
  {
   "cell_type": "code",
   "execution_count": 138,
   "metadata": {
    "collapsed": true
   },
   "outputs": [],
   "source": [
    "data.to_csv(\"data.csv\")"
   ]
  },
  {
   "cell_type": "code",
   "execution_count": 119,
   "metadata": {},
   "outputs": [],
   "source": [
    "data.loc[data['Complaint Type'] == 'Rodent', 'New_Description'] = 'Pests'\n",
    "data.loc[data['Complaint Type'] == 'HEAT/HOT WATER', 'New_Description'] = 'HEAT/HOT WATER'\n",
    "data.loc[data['New_Description'] == 'UNSANITARY CONDITION – PESTS', 'New_Description'] = 'Pests'\n",
    "data.loc[data['Complaint Type'] == 'PAINT/PLASTER', 'New_Description'] = 'PAINT/PLASTER'\n",
    "data.loc[data['New_Description'] == 'UNSANITARY CONDITION – MOLD', 'New_Description'] = 'Mold'\n",
    "data.loc[data['Complaint Type'] == 'PLUMBING', 'New_Description'] = 'Plumbing/Water Leak'\n",
    "data.loc[data['Complaint Type'] == 'WATER LEAK', 'New_Description'] = 'Plumbing/Water Leak'\n",
    "data.loc[data['New_Description'] == 'GENERAL – COOKING GAS', 'New_Description'] = 'Fire Risk'\n",
    "data.loc[data['New_Description'] == 'APPLIANCE – ELECTRIC/GAS RANGE', 'New_Description'] = 'Fire Risk'\n",
    "data.loc[data['Complaint Type'] == 'DOOR/WINDOW', 'New_Description'] = 'DOOR/WINDOW'\n",
    "data.loc[data['Complaint Type'] == 'ELECTRIC', 'New_Description'] = 'ELECTRIC'\n",
    "data.loc[data['New_Description'] == 'SAFETY – CARBON MONOXIDE DETECTOR', 'New_Description'] = 'Air Quality'\n",
    "data.loc[data['New_Description'] == 'GENERAL – VENTILATION SYSTEM', 'New_Description'] = 'Air Quality'\n",
    "data.loc[data['Complaint Type'] == 'FLOORING/STAIRS', 'New_Description'] = 'FLOORING/STAIRS'\n",
    "data.loc[data['New_Description'] == 'Indoor Air Quality – Chemical Vapors/Gases/Odors', 'New_Description'] = 'Air Quality'\n",
    "data.loc[data['New_Description'] == 'UNSANITARY CONDITION – SEWAGE', 'New_Description'] = 'Sewage'\n",
    "data.loc[data['New_Description'] == 'Indoor Sewage – Sewage Odor', 'New_Description'] = 'Sewage'\n",
    "data.loc[data['Complaint Type'] == 'Indoor Air Quality', 'New_Description'] = 'Air Quality'\n",
    "data.loc[data['Complaint Type'] == 'Standing Water', 'New_Description'] = 'Standing Water'\n",
    "data.loc[data['New_Description'] == 'SAFETY – SMOKE DETECTOR', 'New_Description'] = 'Fire Risk'\n",
    "data.loc[data['New_Description'] == 'SAFETY – FIRE ESCAPE', 'New_Description'] = 'Fire Risk'\n",
    "data.loc[data['New_Description'] == 'Unsanitary Pigeon Condition – Pigeon Waste', 'New_Description'] = 'Pests'\n",
    "data.loc[data['New_Description'] == 'Indoor Sewage – Sewage Leak', 'New_Description'] = 'Sewage'\n",
    "data.loc[data['New_Description'] == 'Smoking – Smoking Violation', 'New_Description'] = 'Air Quality'\n",
    "data.loc[data['New_Description'] == 'SAFETY – SPRINKLER', 'New_Description'] = 'Fire Risk'\n",
    "data.loc[data['Complaint Type'] == 'OUTSIDE BUILDING', 'New_Description'] = 'OUTSIDE BUILDING'\n",
    "data.loc[data['New_Description'] == 'UNSANITARY CONDITION – GARBAGE/RECYCLING STORAGE', 'New_Description'] = 'Unsanitary Garbage Storage'\n",
    "data.loc[data['New_Description'] == 'Unsanitary Pigeon Condition – Pigeon Odor', 'New_Description'] = 'Pests'\n",
    "data.loc[data['New_Description'] == 'Mosquitoes – Large Number of Mosquitoes', 'New_Description'] = 'Pests'\n",
    "data.loc[data['New_Description'] == 'SAFETY – OUTLET COVER', 'New_Description'] = 'Fire Risk'"
   ]
  },
  {
   "cell_type": "code",
   "execution_count": 121,
   "metadata": {
    "scrolled": true
   },
   "outputs": [
    {
     "data": {
      "image/png": "[encoded data removed]",
      "text/plain": [
       "<matplotlib.figure.Figure at 0x12bf242e8>"
      ]
     },
     "metadata": {},
     "output_type": "display_data"
    }
   ],
   "source": [
    "def plot_complaints_per_type(df, column):\n",
    "    complaint1 = df.groupby(column)\n",
    "    complaint = pd.DataFrame(complaint1[column].apply(np.size))\n",
    "    complaint.rename(columns = {column:'Number_of_Calls'}, inplace = True)\n",
    "    # next line eliminates complaint types with very few complaints\n",
    "    complaint = complaint[complaint['Number_of_Calls'] > (np.max(complaint['Number_of_Calls'])/100)]\n",
    "    complaint[column] = complaint.index\n",
    "    \n",
    "    objects = complaint[column]\n",
    "    y_pos = np.arange(len(objects))\n",
    "    number = complaint['Number_of_Calls']\n",
    "\n",
    "    plt.figure(figsize=(12,4))\n",
    "    plt.bar(y_pos, number, align='center', alpha=0.5)\n",
    "    plt.xticks(y_pos, objects, rotation='vertical')\n",
    "    plt.ylabel('Number of Complaints in 2016', fontsize=13)\n",
    "    #plt.title('Complaints Per Type', fontsize=18)\n",
    "    \n",
    "plot_complaints_per_type(data, 'Complaint Type')"
   ]
  },
  {
   "cell_type": "code",
   "execution_count": 122,
   "metadata": {},
   "outputs": [
    {
     "data": {
      "image/png": "[encoded data removed]",
      "text/plain": [
       "<matplotlib.figure.Figure at 0x151ae0a90>"
      ]
     },
     "metadata": {},
     "output_type": "display_data"
    }
   ],
   "source": [
    "plot_complaints_per_type(data, 'New_Description')"
   ]
  },
  {
   "cell_type": "markdown",
   "metadata": {},
   "source": [
    "Grouping by New_Description, counting the number in each group, and ranking the top ten."
   ]
  },
  {
   "cell_type": "code",
   "execution_count": 123,
   "metadata": {},
   "outputs": [
    {
     "name": "stdout",
     "output_type": "stream",
     "text": [
      "      Number_of_Calls             New_Description\n",
      "Rank                                             \n",
      "1              227075              HEAT/HOT WATER\n",
      "2               84426         Plumbing/Water Leak\n",
      "3               64956                       Pests\n",
      "4               60260               PAINT/PLASTER\n",
      "5               37494                 DOOR/WINDOW\n",
      "6               27955                    ELECTRIC\n",
      "7               24795             FLOORING/STAIRS\n",
      "8               23688                        Mold\n",
      "9               20876                   Fire Risk\n",
      "10              13432  Unsanitary Garbage Storage\n"
     ]
    }
   ],
   "source": [
    "def count_and_rank_by_column_value(df, column):\n",
    "    description1 = df.groupby(column)\n",
    "    description = pd.DataFrame(description1[column].apply(np.size))\n",
    "    description.rename(columns = {column:'Number_of_Calls'}, inplace = True)\n",
    "    description[column] = description.index\n",
    "    description.sort_values(by='Number_of_Calls', axis=0, ascending=False, inplace=True)\n",
    "    description.index = np.arange(1, len(description)+1)\n",
    "    description.index.name = 'Rank'\n",
    "    print(description.head(10))\n",
    "    \n",
    "count_and_rank_by_column_value(data, 'New_Description')"
   ]
  },
  {
   "cell_type": "markdown",
   "metadata": {},
   "source": [
    "# 3. Counting total complaints per zip code"
   ]
  },
  {
   "cell_type": "code",
   "execution_count": 16,
   "metadata": {
    "scrolled": true
   },
   "outputs": [
    {
     "name": "stdout",
     "output_type": "stream",
     "text": [
      "There are 187 zip codes in the data.\n",
      "------------------------------\n",
      "These zip codes have only one call:          Number_of_Calls\n",
      "11202.0                1\n",
      "11430.0                1\n",
      "10162.0                1\n",
      "10129.0                1\n",
      "10000.0                1\n",
      "------------------------------\n",
      "         Number_of_Calls\n",
      "11226.0            19980\n",
      "10453.0            18925\n",
      "10458.0            18303\n",
      "10467.0            17230\n",
      "10468.0            14927\n",
      "------------------------------\n"
     ]
    },
    {
     "data": {
      "text/plain": [
       "count      187.000000\n",
       "mean      3342.989305\n",
       "std       4101.588937\n",
       "min          1.000000\n",
       "25%        564.000000\n",
       "50%       1786.000000\n",
       "75%       4280.000000\n",
       "max      19980.000000\n",
       "Name: Number_of_Calls, dtype: float64"
      ]
     },
     "execution_count": 16,
     "metadata": {},
     "output_type": "execute_result"
    }
   ],
   "source": [
    "zips1 = data.groupby('Incident Zip')\n",
    "zips = pd.DataFrame(zips1['Incident Zip'].apply(np.size))\n",
    "zips.rename(columns = {'Incident Zip':'Number_of_Calls'}, inplace = True)\n",
    "zips.sort_values(by='Number_of_Calls', axis=0, ascending=False, inplace=True)\n",
    "zips.index.name = None\n",
    "# zips['zip'] = zips.index\n",
    "print('There are', len(zips), 'zip codes in the data.')\n",
    "print('------------------------------')\n",
    "print('These zip codes have only one call:', zips[zips['Number_of_Calls'] == 1.0])\n",
    "print('------------------------------')\n",
    "print(zips.head())\n",
    "print('------------------------------')\n",
    "zips['Number_of_Calls'].describe()"
   ]
  },
  {
   "cell_type": "markdown",
   "metadata": {},
   "source": [
    "This line saves the dataframe of complaints per zide code as a CSV. I will now visualize it using Carto."
   ]
  },
  {
   "cell_type": "code",
   "execution_count": 137,
   "metadata": {},
   "outputs": [],
   "source": [
    "csv_file_path = \"complaints_per_zip.csv\"\n",
    "\n",
    "zips.to_csv(csv_file_path)"
   ]
  },
  {
   "cell_type": "markdown",
   "metadata": {},
   "source": [
    "## RECOMMENDATION: The Tenant Support Unit should start with zip code 11226"
   ]
  },
  {
   "cell_type": "markdown",
   "metadata": {},
   "source": [
    "# 4. Showing distribution of complaints per zip code"
   ]
  },
  {
   "cell_type": "code",
   "execution_count": 17,
   "metadata": {
    "scrolled": true
   },
   "outputs": [
    {
     "data": {
      "text/plain": [
       "Text(0,0.5,'Number of Zip Codes')"
      ]
     },
     "execution_count": 17,
     "metadata": {},
     "output_type": "execute_result"
    },
    {
     "data": {
      "image/png": "[encoded data removed]",
      "text/plain": [
       "<matplotlib.figure.Figure at 0x1164a9748>"
      ]
     },
     "metadata": {},
     "output_type": "display_data"
    }
   ],
   "source": [
    "bins = 30\n",
    "\n",
    "max_zips = 19962\n",
    "min_zips = 1\n",
    "range_zips = max_zips - min_zips\n",
    "binSplit = range_zips/bins\n",
    "labels = (min_zips, max_zips)\n",
    "\n",
    "pl.figure(figsize=(12, 6))\n",
    "pl.hist(zips, bins=bins, edgecolor='black', linewidth=1)\n",
    "pl.xticks(zips['Number_of_Calls'], labels, rotation = 'vertical')\n",
    "pl.title('Distribution of Zip Codes by Number of Complaints', fontsize = 18)\n",
    "pl.xlabel('Complaints per Zip Code', fontsize = 14)\n",
    "pl.ylabel('Number of Zip Codes', fontsize = 14)"
   ]
  },
  {
   "cell_type": "code",
   "execution_count": 18,
   "metadata": {
    "collapsed": true,
    "scrolled": true
   },
   "outputs": [],
   "source": [
    "# bins = 30\n",
    "# # max_zips = np.max(data)\n",
    "# # min_zips = np.min(data)\n",
    "# # range_zips = max_zips - min_zips\n",
    "# # binSplit = zips_range/bin_number\n",
    "\n",
    "# # bins = np.arange(min_zips, max_zips, binSplit)\n",
    "# ax = data.groupby(pd.cut(data['Incident Zip'], bins)).plot(kind='bar', legend=False)\n",
    "# ax.set_title(\"Citi Bike Rider Age\")"
   ]
  },
  {
   "cell_type": "code",
   "execution_count": 19,
   "metadata": {
    "scrolled": true
   },
   "outputs": [],
   "source": [
    "# x = [0,1,2]\n",
    "# y = [90,40,65]\n",
    "# labels = ['high', 'low', 37337]\n",
    "# plt.plot(x,y, 'r')\n",
    "# plt.xticks(x, labels, rotation='vertical')\n",
    "# plt.show()"
   ]
  },
  {
   "cell_type": "markdown",
   "metadata": {},
   "source": [
    "# 5. More detail on zip code 11226"
   ]
  },
  {
   "cell_type": "code",
   "execution_count": 124,
   "metadata": {
    "scrolled": true
   },
   "outputs": [],
   "source": [
    "target = data[data['Incident Zip'] == 11226.0]"
   ]
  },
  {
   "cell_type": "code",
   "execution_count": 127,
   "metadata": {},
   "outputs": [
    {
     "data": {
      "image/png": "[encoded data removed]",
      "text/plain": [
       "<matplotlib.figure.Figure at 0x118b4f898>"
      ]
     },
     "metadata": {},
     "output_type": "display_data"
    }
   ],
   "source": [
    "plot_complaints_per_type(target, 'New_Description')"
   ]
  },
  {
   "cell_type": "code",
   "execution_count": 126,
   "metadata": {
    "scrolled": true
   },
   "outputs": [
    {
     "name": "stdout",
     "output_type": "stream",
     "text": [
      "      Number_of_Calls             New_Description\n",
      "Rank                                             \n",
      "1                7015              HEAT/HOT WATER\n",
      "2                3051         Plumbing/Water Leak\n",
      "3                2312               PAINT/PLASTER\n",
      "4                1774                       Pests\n",
      "5                1038                 DOOR/WINDOW\n",
      "6                 936                    ELECTRIC\n",
      "7                 922                        Mold\n",
      "8                 839             FLOORING/STAIRS\n",
      "9                 527                   Fire Risk\n",
      "10                469  Unsanitary Garbage Storage\n"
     ]
    }
   ],
   "source": [
    "count_and_rank_by_column_value(target, 'New_Description')"
   ]
  },
  {
   "cell_type": "markdown",
   "metadata": {},
   "source": [
    "## CITY COUNCILOR: these are the top ten tenant-related complaints in the most complained-about zip code in your district"
   ]
  },
  {
   "cell_type": "markdown",
   "metadata": {},
   "source": [
    "# 5. Counting which properties have the most complaints."
   ]
  },
  {
   "cell_type": "code",
   "execution_count": 129,
   "metadata": {
    "collapsed": true,
    "scrolled": true
   },
   "outputs": [],
   "source": [
    "props1 = data.groupby('Incident Address')\n",
    "props = pd.DataFrame(props1['Incident Address'].apply(np.size))\n",
    "props.rename(columns = {'Incident Address':'Number_of_Calls'}, inplace = True)\n",
    "props.sort_values(by='Number_of_Calls', axis=0, ascending=False, inplace=True)\n",
    "props.index.name = None"
   ]
  },
  {
   "cell_type": "code",
   "execution_count": 130,
   "metadata": {},
   "outputs": [
    {
     "data": {
      "text/html": [
       "<div>\n",
       "<style>\n",
       "    .dataframe thead tr:only-child th {\n",
       "        text-align: right;\n",
       "    }\n",
       "\n",
       "    .dataframe thead th {\n",
       "        text-align: left;\n",
       "    }\n",
       "\n",
       "    .dataframe tbody tr th {\n",
       "        vertical-align: top;\n",
       "    }\n",
       "</style>\n",
       "<table border=\"1\" class=\"dataframe\">\n",
       "  <thead>\n",
       "    <tr style=\"text-align: right;\">\n",
       "      <th></th>\n",
       "      <th>Number_of_Calls</th>\n",
       "    </tr>\n",
       "  </thead>\n",
       "  <tbody>\n",
       "    <tr>\n",
       "      <th>1025 BOYNTON AVENUE</th>\n",
       "      <td>2644</td>\n",
       "    </tr>\n",
       "    <tr>\n",
       "      <th>89-21 ELMHURST AVENUE</th>\n",
       "      <td>1930</td>\n",
       "    </tr>\n",
       "    <tr>\n",
       "      <th>34 ARDEN STREET</th>\n",
       "      <td>1248</td>\n",
       "    </tr>\n",
       "    <tr>\n",
       "      <th>2181 BARNES AVENUE</th>\n",
       "      <td>1219</td>\n",
       "    </tr>\n",
       "    <tr>\n",
       "      <th>3451 GILES PLACE</th>\n",
       "      <td>1026</td>\n",
       "    </tr>\n",
       "  </tbody>\n",
       "</table>\n",
       "</div>"
      ],
      "text/plain": [
       "                       Number_of_Calls\n",
       "1025 BOYNTON AVENUE               2644\n",
       "89-21 ELMHURST AVENUE             1930\n",
       "34 ARDEN STREET                   1248\n",
       "2181 BARNES AVENUE                1219\n",
       "3451 GILES PLACE                  1026"
      ]
     },
     "execution_count": 130,
     "metadata": {},
     "output_type": "execute_result"
    }
   ],
   "source": [
    "props.head()"
   ]
  },
  {
   "cell_type": "code",
   "execution_count": 131,
   "metadata": {
    "collapsed": true
   },
   "outputs": [],
   "source": [
    "target_props1 = target.groupby('Incident Address')\n",
    "target_props = pd.DataFrame(target_props1['Incident Address'].apply(np.size))\n",
    "target_props.rename(columns = {'Incident Address':'Number_of_Calls'}, inplace = True)\n",
    "target_props.sort_values(by='Number_of_Calls', axis=0, ascending=False, inplace=True)\n",
    "target_props.index.name = None"
   ]
  },
  {
   "cell_type": "code",
   "execution_count": 143,
   "metadata": {},
   "outputs": [
    {
     "name": "stdout",
     "output_type": "stream",
     "text": [
      "1167\n"
     ]
    },
    {
     "data": {
      "text/html": [
       "<div>\n",
       "<style>\n",
       "    .dataframe thead tr:only-child th {\n",
       "        text-align: right;\n",
       "    }\n",
       "\n",
       "    .dataframe thead th {\n",
       "        text-align: left;\n",
       "    }\n",
       "\n",
       "    .dataframe tbody tr th {\n",
       "        vertical-align: top;\n",
       "    }\n",
       "</style>\n",
       "<table border=\"1\" class=\"dataframe\">\n",
       "  <thead>\n",
       "    <tr style=\"text-align: right;\">\n",
       "      <th></th>\n",
       "      <th>Number_of_Calls</th>\n",
       "    </tr>\n",
       "  </thead>\n",
       "  <tbody>\n",
       "    <tr>\n",
       "      <th>223 LINDEN BOULEVARD</th>\n",
       "      <td>674</td>\n",
       "    </tr>\n",
       "    <tr>\n",
       "      <th>120 EAST   19 STREET</th>\n",
       "      <td>246</td>\n",
       "    </tr>\n",
       "    <tr>\n",
       "      <th>2501 NEWKIRK AVENUE</th>\n",
       "      <td>215</td>\n",
       "    </tr>\n",
       "    <tr>\n",
       "      <th>250 EAST   29 STREET</th>\n",
       "      <td>214</td>\n",
       "    </tr>\n",
       "    <tr>\n",
       "      <th>667 OCEAN AVENUE</th>\n",
       "      <td>213</td>\n",
       "    </tr>\n",
       "    <tr>\n",
       "      <th>165 EAST   19 STREET</th>\n",
       "      <td>206</td>\n",
       "    </tr>\n",
       "    <tr>\n",
       "      <th>155 LINDEN BOULEVARD</th>\n",
       "      <td>200</td>\n",
       "    </tr>\n",
       "    <tr>\n",
       "      <th>21 ST PAULS COURT</th>\n",
       "      <td>193</td>\n",
       "    </tr>\n",
       "    <tr>\n",
       "      <th>2010 NEWKIRK AVENUE</th>\n",
       "      <td>187</td>\n",
       "    </tr>\n",
       "    <tr>\n",
       "      <th>60 CLARKSON AVENUE</th>\n",
       "      <td>186</td>\n",
       "    </tr>\n",
       "    <tr>\n",
       "      <th>93 LINDEN BOULEVARD</th>\n",
       "      <td>175</td>\n",
       "    </tr>\n",
       "    <tr>\n",
       "      <th>131 EAST   21 STREET</th>\n",
       "      <td>166</td>\n",
       "    </tr>\n",
       "    <tr>\n",
       "      <th>2215 NEWKIRK AVENUE</th>\n",
       "      <td>157</td>\n",
       "    </tr>\n",
       "    <tr>\n",
       "      <th>305 LINDEN BOULEVARD</th>\n",
       "      <td>150</td>\n",
       "    </tr>\n",
       "    <tr>\n",
       "      <th>305 MARTENSE STREET</th>\n",
       "      <td>139</td>\n",
       "    </tr>\n",
       "    <tr>\n",
       "      <th>125 EAST   19 STREET</th>\n",
       "      <td>137</td>\n",
       "    </tr>\n",
       "    <tr>\n",
       "      <th>2020 ALBEMARLE ROAD</th>\n",
       "      <td>124</td>\n",
       "    </tr>\n",
       "    <tr>\n",
       "      <th>201 EAST   18 STREET</th>\n",
       "      <td>123</td>\n",
       "    </tr>\n",
       "    <tr>\n",
       "      <th>125 LENOX ROAD</th>\n",
       "      <td>123</td>\n",
       "    </tr>\n",
       "    <tr>\n",
       "      <th>1820 CORTELYOU ROAD</th>\n",
       "      <td>119</td>\n",
       "    </tr>\n",
       "    <tr>\n",
       "      <th>605 EAST   16 STREET</th>\n",
       "      <td>118</td>\n",
       "    </tr>\n",
       "    <tr>\n",
       "      <th>225 PARKSIDE AVENUE</th>\n",
       "      <td>117</td>\n",
       "    </tr>\n",
       "    <tr>\n",
       "      <th>410 EAST   17 STREET</th>\n",
       "      <td>113</td>\n",
       "    </tr>\n",
       "    <tr>\n",
       "      <th>49 EAST   19 STREET</th>\n",
       "      <td>113</td>\n",
       "    </tr>\n",
       "    <tr>\n",
       "      <th>46 LINDEN BOULEVARD</th>\n",
       "      <td>111</td>\n",
       "    </tr>\n",
       "    <tr>\n",
       "      <th>1 ST PAULS COURT</th>\n",
       "      <td>111</td>\n",
       "    </tr>\n",
       "    <tr>\n",
       "      <th>125 EAST   18 STREET</th>\n",
       "      <td>104</td>\n",
       "    </tr>\n",
       "    <tr>\n",
       "      <th>2902 CORTELYOU ROAD</th>\n",
       "      <td>103</td>\n",
       "    </tr>\n",
       "    <tr>\n",
       "      <th>755 OCEAN AVENUE</th>\n",
       "      <td>99</td>\n",
       "    </tr>\n",
       "    <tr>\n",
       "      <th>250 CLARKSON AVENUE</th>\n",
       "      <td>98</td>\n",
       "    </tr>\n",
       "    <tr>\n",
       "      <th>...</th>\n",
       "      <td>...</td>\n",
       "    </tr>\n",
       "    <tr>\n",
       "      <th>280 PARKSIDE AVENUE</th>\n",
       "      <td>67</td>\n",
       "    </tr>\n",
       "    <tr>\n",
       "      <th>330 EAST   22 STREET</th>\n",
       "      <td>66</td>\n",
       "    </tr>\n",
       "    <tr>\n",
       "      <th>330 EAST   19 STREET</th>\n",
       "      <td>65</td>\n",
       "    </tr>\n",
       "    <tr>\n",
       "      <th>2242 CLARENDON ROAD</th>\n",
       "      <td>64</td>\n",
       "    </tr>\n",
       "    <tr>\n",
       "      <th>480 EAST   21 STREET</th>\n",
       "      <td>63</td>\n",
       "    </tr>\n",
       "    <tr>\n",
       "      <th>578 EAST   17 STREET</th>\n",
       "      <td>63</td>\n",
       "    </tr>\n",
       "    <tr>\n",
       "      <th>475 OCEAN AVENUE</th>\n",
       "      <td>63</td>\n",
       "    </tr>\n",
       "    <tr>\n",
       "      <th>50 EAST   21 STREET</th>\n",
       "      <td>62</td>\n",
       "    </tr>\n",
       "    <tr>\n",
       "      <th>75 LENOX ROAD</th>\n",
       "      <td>60</td>\n",
       "    </tr>\n",
       "    <tr>\n",
       "      <th>323 EAST   26 STREET</th>\n",
       "      <td>59</td>\n",
       "    </tr>\n",
       "    <tr>\n",
       "      <th>363 EAST   21 STREET</th>\n",
       "      <td>59</td>\n",
       "    </tr>\n",
       "    <tr>\n",
       "      <th>180 LINDEN BOULEVARD</th>\n",
       "      <td>59</td>\n",
       "    </tr>\n",
       "    <tr>\n",
       "      <th>143 LINDEN BOULEVARD</th>\n",
       "      <td>57</td>\n",
       "    </tr>\n",
       "    <tr>\n",
       "      <th>1825 NOSTRAND AVENUE</th>\n",
       "      <td>57</td>\n",
       "    </tr>\n",
       "    <tr>\n",
       "      <th>543 EAST   21 STREET</th>\n",
       "      <td>57</td>\n",
       "    </tr>\n",
       "    <tr>\n",
       "      <th>470 OCEAN AVENUE</th>\n",
       "      <td>55</td>\n",
       "    </tr>\n",
       "    <tr>\n",
       "      <th>522 OCEAN AVENUE</th>\n",
       "      <td>54</td>\n",
       "    </tr>\n",
       "    <tr>\n",
       "      <th>31 EAST   21 STREET</th>\n",
       "      <td>54</td>\n",
       "    </tr>\n",
       "    <tr>\n",
       "      <th>2101 ALBEMARLE ROAD</th>\n",
       "      <td>54</td>\n",
       "    </tr>\n",
       "    <tr>\n",
       "      <th>1081 FLATBUSH AVENUE</th>\n",
       "      <td>54</td>\n",
       "    </tr>\n",
       "    <tr>\n",
       "      <th>2728 CHURCH AVENUE</th>\n",
       "      <td>53</td>\n",
       "    </tr>\n",
       "    <tr>\n",
       "      <th>585 EAST   21 STREET</th>\n",
       "      <td>53</td>\n",
       "    </tr>\n",
       "    <tr>\n",
       "      <th>1525 DORCHESTER ROAD</th>\n",
       "      <td>53</td>\n",
       "    </tr>\n",
       "    <tr>\n",
       "      <th>2516 BEDFORD AVENUE</th>\n",
       "      <td>53</td>\n",
       "    </tr>\n",
       "    <tr>\n",
       "      <th>1809 ALBEMARLE ROAD</th>\n",
       "      <td>53</td>\n",
       "    </tr>\n",
       "    <tr>\n",
       "      <th>22 CLARKSON AVENUE</th>\n",
       "      <td>53</td>\n",
       "    </tr>\n",
       "    <tr>\n",
       "      <th>750 OCEAN AVENUE</th>\n",
       "      <td>53</td>\n",
       "    </tr>\n",
       "    <tr>\n",
       "      <th>1829 CATON AVENUE</th>\n",
       "      <td>53</td>\n",
       "    </tr>\n",
       "    <tr>\n",
       "      <th>20 CROOKE AVENUE</th>\n",
       "      <td>52</td>\n",
       "    </tr>\n",
       "    <tr>\n",
       "      <th>115 LENOX ROAD</th>\n",
       "      <td>52</td>\n",
       "    </tr>\n",
       "  </tbody>\n",
       "</table>\n",
       "<p>100 rows × 1 columns</p>\n",
       "</div>"
      ],
      "text/plain": [
       "                      Number_of_Calls\n",
       "223 LINDEN BOULEVARD              674\n",
       "120 EAST   19 STREET              246\n",
       "2501 NEWKIRK AVENUE               215\n",
       "250 EAST   29 STREET              214\n",
       "667 OCEAN AVENUE                  213\n",
       "165 EAST   19 STREET              206\n",
       "155 LINDEN BOULEVARD              200\n",
       "21 ST PAULS COURT                 193\n",
       "2010 NEWKIRK AVENUE               187\n",
       "60 CLARKSON AVENUE                186\n",
       "93 LINDEN BOULEVARD               175\n",
       "131 EAST   21 STREET              166\n",
       "2215 NEWKIRK AVENUE               157\n",
       "305 LINDEN BOULEVARD              150\n",
       "305 MARTENSE STREET               139\n",
       "125 EAST   19 STREET              137\n",
       "2020 ALBEMARLE ROAD               124\n",
       "201 EAST   18 STREET              123\n",
       "125 LENOX ROAD                    123\n",
       "1820 CORTELYOU ROAD               119\n",
       "605 EAST   16 STREET              118\n",
       "225 PARKSIDE AVENUE               117\n",
       "410 EAST   17 STREET              113\n",
       "49 EAST   19 STREET               113\n",
       "46 LINDEN BOULEVARD               111\n",
       "1 ST PAULS COURT                  111\n",
       "125 EAST   18 STREET              104\n",
       "2902 CORTELYOU ROAD               103\n",
       "755 OCEAN AVENUE                   99\n",
       "250 CLARKSON AVENUE                98\n",
       "...                               ...\n",
       "280 PARKSIDE AVENUE                67\n",
       "330 EAST   22 STREET               66\n",
       "330 EAST   19 STREET               65\n",
       "2242 CLARENDON ROAD                64\n",
       "480 EAST   21 STREET               63\n",
       "578 EAST   17 STREET               63\n",
       "475 OCEAN AVENUE                   63\n",
       "50 EAST   21 STREET                62\n",
       "75 LENOX ROAD                      60\n",
       "323 EAST   26 STREET               59\n",
       "363 EAST   21 STREET               59\n",
       "180 LINDEN BOULEVARD               59\n",
       "143 LINDEN BOULEVARD               57\n",
       "1825 NOSTRAND AVENUE               57\n",
       "543 EAST   21 STREET               57\n",
       "470 OCEAN AVENUE                   55\n",
       "522 OCEAN AVENUE                   54\n",
       "31 EAST   21 STREET                54\n",
       "2101 ALBEMARLE ROAD                54\n",
       "1081 FLATBUSH AVENUE               54\n",
       "2728 CHURCH AVENUE                 53\n",
       "585 EAST   21 STREET               53\n",
       "1525 DORCHESTER ROAD               53\n",
       "2516 BEDFORD AVENUE                53\n",
       "1809 ALBEMARLE ROAD                53\n",
       "22 CLARKSON AVENUE                 53\n",
       "750 OCEAN AVENUE                   53\n",
       "1829 CATON AVENUE                  53\n",
       "20 CROOKE AVENUE                   52\n",
       "115 LENOX ROAD                     52\n",
       "\n",
       "[100 rows x 1 columns]"
      ]
     },
     "execution_count": 143,
     "metadata": {},
     "output_type": "execute_result"
    }
   ],
   "source": [
    "print(len(target_props))\n",
    "target_props.head(100)"
   ]
  },
  {
   "cell_type": "code",
   "execution_count": null,
   "metadata": {
    "collapsed": true
   },
   "outputs": [],
   "source": []
  }
 ],
 "metadata": {
  "kernelspec": {
   "display_name": "Python 3",
   "language": "python",
   "name": "python3"
  },
  "language_info": {
   "codemirror_mode": {
    "name": "ipython",
    "version": 3
   },
   "file_extension": ".py",
   "mimetype": "text/x-python",
   "name": "python",
   "nbconvert_exporter": "python",
   "pygments_lexer": "ipython3",
   "version": "3.6.2"
  }
 },
 "nbformat": 4,
 "nbformat_minor": 2
}
